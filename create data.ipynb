{
 "cells": [
  {
   "cell_type": "code",
   "execution_count": 3,
   "metadata": {},
   "outputs": [],
   "source": [
    "import pandas as pd\n",
    "import numpy as np\n",
    "import random\n",
    "import time"
   ]
  },
  {
   "cell_type": "markdown",
   "metadata": {},
   "source": [
    "# Create dataframe"
   ]
  },
  {
   "cell_type": "code",
   "execution_count": 4,
   "metadata": {},
   "outputs": [],
   "source": [
    "alpha_num = list('abcdefghijklmnopqrstuvwxyzABCDEFGHIJKLMNOPQRSTUVWXYZ')\n",
    "\n",
    "def generate_row():\n",
    "    return {\"categorical\":np.random.choice([\"a\", \"b\", \"c\", \"a\"],1)[0],\n",
    "            \"integer\":np.random.randint(0,500),\n",
    "            \"float\":np.random.normal(100, 30),\n",
    "            \"string\": \"\".join(np.random.choice(alpha_num, size=4)),\n",
    "            \"random1\":np.random.normal(50, 10),\n",
    "            \"random2\":np.random.normal(50, 10),\n",
    "            \"random3\":np.random.normal(50, 10),\n",
    "            \"random4\":np.random.normal(50, 10),\n",
    "            \"random5\":np.random.normal(50, 10),\n",
    "            \"random6\":np.random.normal(50, 10)}\n",
    "\n",
    "def generate_df(k):\n",
    "    return [generate_row() for _ in range(k)]\n",
    "\n",
    "N = 5000000\n",
    "df = pd.DataFrame(generate_df(N))"
   ]
  },
  {
   "cell_type": "code",
   "execution_count": 5,
   "metadata": {},
   "outputs": [],
   "source": [
    "df.to_csv(\"random.csv\", index=None)\n",
    "\n",
    "df.sample(frac=0.5).copy().to_csv(\"random_0.5.csv\", index=None)\n",
    "\n",
    "df.sample(frac=0.1).copy().to_csv(\"random_0.1.csv\", index=None)"
   ]
  },
  {
   "cell_type": "code",
   "execution_count": null,
   "metadata": {},
   "outputs": [],
   "source": []
  }
 ],
 "metadata": {
  "kernelspec": {
   "display_name": "Python [conda env:dask]",
   "language": "python",
   "name": "conda-env-dask-py"
  },
  "language_info": {
   "codemirror_mode": {
    "name": "ipython",
    "version": 3
   },
   "file_extension": ".py",
   "mimetype": "text/x-python",
   "name": "python",
   "nbconvert_exporter": "python",
   "pygments_lexer": "ipython3",
   "version": "3.7.4"
  }
 },
 "nbformat": 4,
 "nbformat_minor": 2
}
